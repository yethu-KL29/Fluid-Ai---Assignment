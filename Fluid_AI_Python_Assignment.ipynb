{
  "nbformat": 4,
  "nbformat_minor": 0,
  "metadata": {
    "colab": {
      "provenance": [],
      "authorship_tag": "ABX9TyNchh4lf998LhGQcFhkkZKk",
      "include_colab_link": true
    },
    "kernelspec": {
      "name": "python3",
      "display_name": "Python 3"
    },
    "language_info": {
      "name": "python"
    }
  },
  "cells": [
    {
      "cell_type": "markdown",
      "metadata": {
        "id": "view-in-github",
        "colab_type": "text"
      },
      "source": [
        "<a href=\"https://colab.research.google.com/github/yethu-KL29/Fluid-Ai---Assignment/blob/main/Fluid_AI_Python_Assignment.ipynb\" target=\"_parent\"><img src=\"https://colab.research.google.com/assets/colab-badge.svg\" alt=\"Open In Colab\"/></a>"
      ]
    },
    {
      "cell_type": "code",
      "source": [
        "#Install necessary library's\n",
        "!pip install --upgrade openai PyMuPDF\n"
      ],
      "metadata": {
        "colab": {
          "base_uri": "https://localhost:8080/"
        },
        "collapsed": true,
        "id": "Yga9v5lZr0y5",
        "outputId": "ba956996-d80f-4a1c-8422-179ad059ae01"
      },
      "execution_count": 37,
      "outputs": [
        {
          "output_type": "stream",
          "name": "stdout",
          "text": [
            "Requirement already satisfied: openai in /usr/local/lib/python3.10/dist-packages (1.54.3)\n",
            "Requirement already satisfied: PyMuPDF in /usr/local/lib/python3.10/dist-packages (1.24.13)\n",
            "Requirement already satisfied: anyio<5,>=3.5.0 in /usr/local/lib/python3.10/dist-packages (from openai) (3.7.1)\n",
            "Requirement already satisfied: distro<2,>=1.7.0 in /usr/local/lib/python3.10/dist-packages (from openai) (1.9.0)\n",
            "Requirement already satisfied: httpx<1,>=0.23.0 in /usr/local/lib/python3.10/dist-packages (from openai) (0.27.2)\n",
            "Requirement already satisfied: jiter<1,>=0.4.0 in /usr/local/lib/python3.10/dist-packages (from openai) (0.6.1)\n",
            "Requirement already satisfied: pydantic<3,>=1.9.0 in /usr/local/lib/python3.10/dist-packages (from openai) (2.9.2)\n",
            "Requirement already satisfied: sniffio in /usr/local/lib/python3.10/dist-packages (from openai) (1.3.1)\n",
            "Requirement already satisfied: tqdm>4 in /usr/local/lib/python3.10/dist-packages (from openai) (4.66.6)\n",
            "Requirement already satisfied: typing-extensions<5,>=4.11 in /usr/local/lib/python3.10/dist-packages (from openai) (4.12.2)\n",
            "Requirement already satisfied: idna>=2.8 in /usr/local/lib/python3.10/dist-packages (from anyio<5,>=3.5.0->openai) (3.10)\n",
            "Requirement already satisfied: exceptiongroup in /usr/local/lib/python3.10/dist-packages (from anyio<5,>=3.5.0->openai) (1.2.2)\n",
            "Requirement already satisfied: certifi in /usr/local/lib/python3.10/dist-packages (from httpx<1,>=0.23.0->openai) (2024.8.30)\n",
            "Requirement already satisfied: httpcore==1.* in /usr/local/lib/python3.10/dist-packages (from httpx<1,>=0.23.0->openai) (1.0.6)\n",
            "Requirement already satisfied: h11<0.15,>=0.13 in /usr/local/lib/python3.10/dist-packages (from httpcore==1.*->httpx<1,>=0.23.0->openai) (0.14.0)\n",
            "Requirement already satisfied: annotated-types>=0.6.0 in /usr/local/lib/python3.10/dist-packages (from pydantic<3,>=1.9.0->openai) (0.7.0)\n",
            "Requirement already satisfied: pydantic-core==2.23.4 in /usr/local/lib/python3.10/dist-packages (from pydantic<3,>=1.9.0->openai) (2.23.4)\n"
          ]
        }
      ]
    },
    {
      "cell_type": "code",
      "source": [
        "#Install the dependencies\n",
        "\n",
        "import fitz\n",
        "import re"
      ],
      "metadata": {
        "id": "64g-Q08E3T0e"
      },
      "execution_count": 118,
      "outputs": []
    },
    {
      "cell_type": "code",
      "source": [
        "# Set your OpenAI API key\n",
        "from openai import OpenAI\n",
        "client = OpenAI(\n",
        "api_key = 'API KEY'\n",
        "\n",
        ")\n"
      ],
      "metadata": {
        "id": "YaSAbQQ2rz9g"
      },
      "execution_count": 82,
      "outputs": []
    },
    {
      "cell_type": "code",
      "source": [
        "def extract_and_summarize(pdf_path):\n",
        "    \"\"\"\n",
        "    Extract text from a PDF and summarize the key information for an investor using GPT.\n",
        "\n",
        "    1. Future Growth Prospects\n",
        "    2. Key Changes in Business\n",
        "    3. Key Triggers\n",
        "    4. Important information that might have a material effect on next year's earnings and growth\n",
        "    \"\"\"\n",
        "\n",
        "    # Step 1: Extract text from the PDF\n",
        "    doc = fitz.open(pdf_path)\n",
        "    text = \"\"\n",
        "    for page_num in range(len(doc)):\n",
        "        page = doc.load_page(page_num)\n",
        "        text += page.get_text()\n",
        "\n",
        "    # Step 2: Preprocess text by removing unwanted characters and extra spaces\n",
        "    cleaned_text = re.sub(r'\\s+', ' ', text)  # Replace multiple spaces with a single space\n",
        "    cleaned_text = re.sub(r'\\n', ' ', cleaned_text)  # Replace newlines with a space\n",
        "\n",
        "    # Step 3: Generate a GPT prompt to extract key sections from the document\n",
        "    # Step 3: Generate a GPT prompt to extract key sections from the document\n",
        "    prompt = (\n",
        "      \"You are an AI designed to summarize key business information relevant to investors. The summary should be clear, direct, and structured into bullet points for each section. Avoid redundancy and focus only on key information that investors need to know. Do not include any filler or unnecessary detail. Make sure the summary is concise, with each section providing insights on specific areas of the business that influence investor decisions. The key sections of the summary should include:\\n\\n\"\n",
        "\n",
        "      \"1. **Future Growth Prospects**: Describe any growth opportunities or plans for expansion. This could include new market entry, acquisitions, or future revenue growth potential.\\n\"\n",
        "\n",
        "      \"2. **Key Changes in Business**: Summarize any transformative changes within the company. This could include shifts in business strategy, leadership, operations, or product offerings.\\n\"\n",
        "\n",
        "      \"3. **Key Triggers**: Identify any important factors or events that could drive significant changes in the company’s performance. This might include partnerships, new product launches, or market shifts.\\n\"\n",
        "\n",
        "      \"4. **Material Effect on Next Year's Earnings and Growth**: Outline the anticipated impact on future earnings and company growth, including projections or expectations for the coming year.\\n\\n\"\n",
        "\n",
        "       \"Ensure each section is brief but impactful, and all bullet points are succinct. Provide only the most relevant details for an investor's decision-making process.\\n\\n\"\n",
        "       \"The number of bullet points is dependent on the content and the relevance of the respective field\"\n",
        "       \"Consider the follpwing things: No Redundancy , SHould be clear and precise not repettitions\"\n",
        "       \"only this 4 headings under that relevabt points to that heading only , mark this heading as unique, not this headings comesd under any of other heading or the subset of headings also not comr\"\n",
        "      f\"Document: {cleaned_text}\\n\"\n",
        "  )\n",
        "\n",
        "  # Step 4: Use GPT to generate a response (correct method for OpenAI Python client)\n",
        "    response = client.chat.completions.create(\n",
        "      model=\"gpt-3.5-turbo\",  # or use \"gpt-4\"\n",
        "      messages=[{\n",
        "          \"role\": \"user\",\n",
        "          \"content\": prompt,\n",
        "      }]\n",
        "  )\n",
        "\n",
        "  # Step 5: Extract the content from the response\n",
        "    output = response.choices[0].message.content.strip()  # Correct way to access content\n",
        "\n",
        "\n",
        "    return output\n",
        "\n"
      ],
      "metadata": {
        "id": "ZzDyLv_bsJL7"
      },
      "execution_count": 146,
      "outputs": []
    },
    {
      "cell_type": "code",
      "source": [
        "# Example usage\n",
        "pdf_path = \"Path of the PDF file\"\n",
        "investor_summary = extract_and_summarize(pdf_path)"
      ],
      "metadata": {
        "id": "oIOnFqZAt6Ly"
      },
      "execution_count": 147,
      "outputs": []
    },
    {
      "cell_type": "code",
      "source": [
        "print(investor_summary)"
      ],
      "metadata": {
        "colab": {
          "base_uri": "https://localhost:8080/"
        },
        "id": "pE4QtUWDyKph",
        "outputId": "be0d1b83-0936-4996-cd96-fe90b97663e4"
      },
      "execution_count": 149,
      "outputs": [
        {
          "output_type": "stream",
          "name": "stdout",
          "text": [
            "**Future Growth Prospects**:\n",
            "- Acquired Walter Pack India to penetrate deeper in passenger vehicles and consumer appliances segment\n",
            "- Expects inorganic acquisitions to continue as core growth strategy\n",
            "- New technologies from Walter Pack present cross-selling opportunities among three companies\n",
            "\n",
            "**Key Changes in Business**:\n",
            "- Completed transformative acquisition of Walter Pack India, adding new growth opportunities\n",
            "- Shifted focus to inorganic growth through acquisitions like Exotech and Walter Pack\n",
            "- Pivoted business strategy towards market leadership in aesthetic business with new acquisitions\n",
            "\n",
            "**Key Triggers**:\n",
            "- Strong revenue growth of 21% YoY and robust margin performance at Walter Pack in Q1 FY24\n",
            "- Successful acquisition of new customers such as Autoliv and Toyota Tsusho\n",
            "- Expansion in exports market, doubling export revenue compared to same quarter last year\n",
            "\n",
            "**Material Effect on Next Year's Earnings and Growth**:\n",
            "- Anticipating consolidation of pro forma financials of SJS and Walter Pack from Q2 FY24\n",
            "- Expected growth of 50% YoY in consolidated revenues for FY24 with Walter Pack contributing\n",
            "- Projected PAT growth of 40% YoY with addition of Walter Pack revenues and robust margin profile\n"
          ]
        }
      ]
    },
    {
      "cell_type": "markdown",
      "source": [
        "# New section"
      ],
      "metadata": {
        "id": "ZSuBC5z92qk-"
      }
    }
  ]
}